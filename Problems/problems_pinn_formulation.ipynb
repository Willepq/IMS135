{
 "cells": [
  {
   "cell_type": "markdown",
   "metadata": {},
   "source": [
    "## Problem 1\n",
    "Solve the Rayleigh problem by using PINN and compare it against its analytical solution (compare with the bar example from the lecture examples). The Rayleigh problem (fluid flow due to movement of a long flat plate) governs the d.e.\n",
    "$$\n",
    "\\frac{d^2 f}{d \\eta^2}+2 \\, \\eta \\, \\frac{d f}{d \\eta}=0\n",
    "$$\n",
    "with bc: $f(0)=1$, $f(\\infty)=0$. The second bc is for simplicity (approximation) replaced with $f(3)=0$. "
   ]
  },
  {
   "cell_type": "markdown",
   "metadata": {},
   "source": [
    "## Problem 2 Heat transfer\n",
    "The 1d stationary heat equation is expressed as $-d q/dx+ Q=0$ where $q$  is the heat flux and $Q$ is the source term. For the considered 1d structure the heat conduction coefficient $k$ depends on $x$. Hence, the Fourier's law can be written as modelled as $q=-k(x) \\, dT/dx$. Assume a constant heat source $Q=50$, length $L=1$, and $T_{1}=10$ and $T_{2}=20$.\n",
    "\n",
    "If the temperature field has been determined to\n",
    "$$\n",
    "T{\\left(x \\right)} = 9 L^{2} Q \\sqrt[3]{e^{\\frac{x}{L}}} + \\left(- 3 L Q x + \\frac{- 6 L^{2} Q e^{\\frac{1}{3}} + 9 L^{2} Q - T_{1} + T_{2}}{-1 + e^{\\frac{1}{3}}}\\right) e^{\\frac{x}{3 L}} + \\frac{- 3 L^{2} Q e^{\\frac{1}{3}} + T_{1} e^{\\frac{1}{3}} - T_{2}}{-1 + e^{\\frac{1}{3}}}\n",
    "$$\n",
    "determine $k(x)$ by using PINN. Compare your solution against the analytical solution $k(x)=-\\frac{x}{3L}$.\n",
    "\n",
    "The analytical solution for $T(x)$ and the measurement points $x$ are generated as:"
   ]
  },
  {
   "cell_type": "code",
   "execution_count": null,
   "metadata": {},
   "outputs": [],
   "source": [
    "#%% Problem data\n",
    "N = 20\n",
    "L = 1\n",
    "\n",
    "def generate_grid_1d(length, samples=20, initial_coordinate=0.0):\n",
    "    \"\"\"Generate an evenly space grid of a given length and a given number of samples.\"\"\"\n",
    "\n",
    "    # Generate the grid\n",
    "    x = torch.linspace(initial_coordinate, initial_coordinate + length, samples, requires_grad=True)\n",
    "\n",
    "    # Reshape on a column tensor and return\n",
    "    return x.view(samples, 1)\n",
    "\n",
    "\n",
    "x = generate_grid_1d(L, N)\n",
    "\n",
    "T1=10; Q=50; T2=20\n",
    "k_analytic=torch.exp(-x/L/3)\n",
    "T_analytic = lambda x: 9*L**2*Q*torch.exp(x/L)**(1/3) \\\n",
    "        + (-3*L*Q*x + (-6*L**2*Q*np.exp(1/3) + 9*L**2*Q - T1 + T2)/(-1 + np.exp(1/3)))*torch.exp(x/(3*L)) \\\n",
    "        + (-3*L**2*Q*np.exp(1/3) + T1*np.exp(1/3) - T2)/(-1 + np.exp(1/3))"
   ]
  },
  {
   "cell_type": "markdown",
   "metadata": {},
   "source": [
    "## Problem 3\n",
    "Assume the 1d stationary heat equation is your physics law from the example above. Assume that you have some measurement $T(x_i)$ at the points $x_i$ $i=1,...,m$. \n",
    "\n",
    "Determine $k(x)$ and $T(x)$ using PINN and compare it against their analytical solution. Try with noise=0, and 0.5. Try different factors in front of the loss term for measurement data. Run the training twice (to possibly improve the results). \n",
    "\n",
    "Generate T_random by:"
   ]
  },
  {
   "cell_type": "code",
   "execution_count": 68,
   "metadata": {},
   "outputs": [],
   "source": [
    "def create_exp(T_analytic,noise):\n",
    "    return T_analytic(x) +  noise*(torch.rand(len(x), 1) - 0.5).type(torch.FloatTensor)\n",
    "\n",
    "noise=0.\n",
    "T_random=create_exp(T_analytic,noise)\n"
   ]
  }
 ],
 "metadata": {
  "kernelspec": {
   "display_name": "base",
   "language": "python",
   "name": "python3"
  },
  "language_info": {
   "codemirror_mode": {
    "name": "ipython",
    "version": 3
   },
   "file_extension": ".py",
   "mimetype": "text/x-python",
   "name": "python",
   "nbconvert_exporter": "python",
   "pygments_lexer": "ipython3",
   "version": "3.9.13"
  },
  "orig_nbformat": 4
 },
 "nbformat": 4,
 "nbformat_minor": 2
}
