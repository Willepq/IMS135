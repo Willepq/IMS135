{
 "cells": [
  {
   "cell_type": "markdown",
   "metadata": {},
   "source": [
    "## 1D stationary heat, reduced order modeling"
   ]
  },
  {
   "cell_type": "markdown",
   "metadata": {},
   "source": [
    "\n",
    "Study reduced order modeling for the stationary heat equation\n",
    "$$\n",
    "\\frac{d^2T}{dx^2}+\\frac{E_x}{k}=0\n",
    "$$\n",
    "with boundary conditions $T'(0)=0$ (i.e. insulated) and $T(L)=0$ K. $E_x$ is a heat source and $k$ is the conductivity.\n",
    "\n",
    "As the basis you have Notebooks illustrating reduced order modeling for both FEM and finite difference method. In this assignment choose to solve it with the method you prefer."
   ]
  },
  {
   "cell_type": "markdown",
   "metadata": {},
   "source": [
    "a) Implement your FEM or finite difference solver to get a high resolution solver. Assume heat source distribution like the moving \"tent_distribution\" in the codes for the bar problem. Assume a width of the tent $L/10$ and that it moves from left to right with a velocity $L/t_{end}$ where $L=1000$ mm and $t_{end}=1000$ s. Assume the maximum value of $E_x/k$ to be 1000 K/m$^2$. Try some different time and spatial distributions such that the results becomes \"accurate enough\". \n",
    "\n",
    "b) Based on the data from the high resolution solver in a) perform SVD analysis. In particular, give the singular values and illustrate some of the spatial modes $\\mathbf{\\Phi}$.\n",
    "\n",
    "c) Now solve the problem in a) again but use reduced order modelling \n",
    "Try out different dumber of modes to check that you get convergence towards the solution you obtained by the high resolution solver in  a). \n",
    "\n",
    "d) Now you change the heat source to a moving Hertzian type of distribution (with the same width and maximum value as in the tent distribution). Compare the results from your high resolution solver to results from reduced order modelling. Note that you should not change the modes from b) (that are from the tent distribution loading). Compare the number of unknowns you have in reduced order modelling with your high resolution model. "
   ]
  },
  {
   "cell_type": "markdown",
   "metadata": {},
   "source": []
  }
 ],
 "metadata": {
  "kernelspec": {
   "display_name": "Python 3 (ipykernel)",
   "language": "python",
   "name": "python3"
  },
  "language_info": {
   "codemirror_mode": {
    "name": "ipython",
    "version": 3
   },
   "file_extension": ".py",
   "mimetype": "text/x-python",
   "name": "python",
   "nbconvert_exporter": "python",
   "pygments_lexer": "ipython3",
   "version": "3.9.13"
  }
 },
 "nbformat": 4,
 "nbformat_minor": 4
}
